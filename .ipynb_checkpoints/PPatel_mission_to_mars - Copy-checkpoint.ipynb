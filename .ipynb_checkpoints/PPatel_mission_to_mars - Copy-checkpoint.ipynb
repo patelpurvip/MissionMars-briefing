{
 "cells": [
  {
   "cell_type": "markdown",
   "metadata": {},
   "source": [
    "# PPatel Homework #12 - Web Scraping"
   ]
  },
  {
   "cell_type": "code",
   "execution_count": 2,
   "metadata": {},
   "outputs": [
    {
     "ename": "AttributeError",
     "evalue": "'NoneType' object has no attribute 'find'",
     "output_type": "error",
     "traceback": [
      "\u001b[1;31m---------------------------------------------------------------------------\u001b[0m",
      "\u001b[1;31mAttributeError\u001b[0m                            Traceback (most recent call last)",
      "\u001b[1;32m<ipython-input-2-f822a868c496>\u001b[0m in \u001b[0;36m<module>\u001b[1;34m\u001b[0m\n\u001b[0;32m     27\u001b[0m \u001b[0marticles\u001b[0m \u001b[1;33m=\u001b[0m \u001b[0msoup\u001b[0m\u001b[1;33m.\u001b[0m\u001b[0mfind_all\u001b[0m\u001b[1;33m(\u001b[0m\u001b[1;34m'li'\u001b[0m\u001b[1;33m,\u001b[0m \u001b[0mclass_\u001b[0m\u001b[1;33m=\u001b[0m\u001b[1;34m'slide'\u001b[0m\u001b[1;33m)\u001b[0m\u001b[1;33m\u001b[0m\u001b[1;33m\u001b[0m\u001b[0m\n\u001b[0;32m     28\u001b[0m \u001b[0mfirst_article\u001b[0m \u001b[1;33m=\u001b[0m \u001b[0msoup\u001b[0m\u001b[1;33m.\u001b[0m\u001b[0mselect_one\u001b[0m\u001b[1;33m(\u001b[0m\u001b[1;34m\"ul.item_list li.slide\"\u001b[0m\u001b[1;33m)\u001b[0m\u001b[1;33m\u001b[0m\u001b[1;33m\u001b[0m\u001b[0m\n\u001b[1;32m---> 29\u001b[1;33m \u001b[0mfirst_title\u001b[0m \u001b[1;33m=\u001b[0m \u001b[0mfirst_article\u001b[0m\u001b[1;33m.\u001b[0m\u001b[0mfind\u001b[0m\u001b[1;33m(\u001b[0m\u001b[1;34m'div'\u001b[0m\u001b[1;33m,\u001b[0m \u001b[0mclass_\u001b[0m\u001b[1;33m=\u001b[0m\u001b[1;34m'content_title'\u001b[0m\u001b[1;33m)\u001b[0m\u001b[1;33m.\u001b[0m\u001b[0mget_text\u001b[0m\u001b[1;33m(\u001b[0m\u001b[1;33m)\u001b[0m\u001b[1;33m\u001b[0m\u001b[1;33m\u001b[0m\u001b[0m\n\u001b[0m\u001b[0;32m     30\u001b[0m \u001b[0mfirst_paragraph\u001b[0m \u001b[1;33m=\u001b[0m \u001b[0mfirst_article\u001b[0m\u001b[1;33m.\u001b[0m\u001b[0mfind\u001b[0m\u001b[1;33m(\u001b[0m\u001b[1;34m'div'\u001b[0m\u001b[1;33m,\u001b[0m \u001b[0mclass_\u001b[0m\u001b[1;33m=\u001b[0m\u001b[1;34m'article_teaser_body'\u001b[0m\u001b[1;33m)\u001b[0m\u001b[1;33m.\u001b[0m\u001b[0mget_text\u001b[0m\u001b[1;33m(\u001b[0m\u001b[1;33m)\u001b[0m\u001b[1;33m\u001b[0m\u001b[1;33m\u001b[0m\u001b[0m\n\u001b[0;32m     31\u001b[0m \u001b[0mprint\u001b[0m\u001b[1;33m(\u001b[0m\u001b[0mfirst_title\u001b[0m\u001b[1;33m)\u001b[0m\u001b[1;33m\u001b[0m\u001b[1;33m\u001b[0m\u001b[0m\n",
      "\u001b[1;31mAttributeError\u001b[0m: 'NoneType' object has no attribute 'find'"
     ]
    }
   ],
   "source": [
    "from bs4 import BeautifulSoup as bs\n",
    "import requests\n",
    "import pymongo\n",
    "from splinter import Browser\n",
    "from splinter.exceptions import ElementDoesNotExist\n",
    "import pandas as pd\n",
    "\n",
    "\n",
    "conn = 'mongodb://localhost:27017'\n",
    "client = pymongo.MongoClient(conn)\n",
    "\n",
    "db = client.nasamars_db\n",
    "mars_data = db.articles\n",
    "\n",
    "executable_path = {'executable_path': r\"C:\\Users\\Purvi Patel\\Documents\\Chromedriver\\chromedriver.exe\"}\n",
    "browser = Browser('chrome', **executable_path, headless=False)\n",
    "\n",
    "# URL of page to be scraped\n",
    "url = 'https://mars.nasa.gov/news/'\n",
    "\n",
    "browser.visit(url)\n",
    "html = browser.html\n",
    "soup = bs(html, 'html.parser')\n",
    "\n",
    "\n",
    "# Mars News\n",
    "articles = soup.find_all('div', class_='list_text')\n",
    "first_article = soup.select_one(\"ul.item_list li.slide\")\n",
    "first_title = first_article.find('div', class_='content_title').get_text()\n",
    "first_paragraph = first_article.find('div', class_='article_teaser_body').get_text()\n",
    "print(first_title)\n",
    "print(first_paragraph)\n",
    "\n",
    "\n",
    "#Featured Image\n",
    "url2 = 'https://www.jpl.nasa.gov/spaceimages/?search=&category=Mars'\n",
    "browser.visit(url2)\n",
    "\n",
    "html = browser.html\n",
    "soup = bs(html, 'html.parser')\n",
    "\n",
    "mars_featured_image = soup.select_one(\"div.img\")\n",
    "mars_img_url = mars_featured_image.img.get('src')\n",
    "featured_image_url = 'https://www.jpl.nasa.gov' + mars_img_url\n",
    "featured_image_name = mars_featured_image.img.get('alt')\n",
    "print(featured_image_name)\n",
    "print(featured_image_url)\n",
    "\n",
    "\n",
    "# Mars Facts\n",
    "url4 = 'https://space-facts.com/mars/'\n",
    "browser.visit(url4)\n",
    "\n",
    "mars_table = pd.read_html(url4)\n",
    "\n",
    "table_df = mars_table[0]\n",
    "table_df.columns = ['Measurement', 'Value']\n",
    "# table_df.set_index('Measurement', inplace=True)\n",
    "\n",
    "html_table = table_df.to_html(\"./facts_table.html\")\n",
    "#WHY ARE THE SPACES STILL THERE????\n",
    "# html_table.replace('\\n', '')\n",
    "\n",
    "\n",
    "\n",
    "# # Mars Hemispheres\n",
    "# mars_hemispheres_dict = []\n",
    "# mars_hemipage_list = []\n",
    "# url5 = 'https://astrogeology.usgs.gov/search/results?q=hemisphere+enhanced&k1=target&v1=Mars'\n",
    "\n",
    "# browser.visit(url5)\n",
    "# html = browser.html\n",
    "# soup = bs(html, 'html.parser')\n",
    "\n",
    "# mars_hemisphere_data = soup.find_all('div', class_='item')\n",
    "\n",
    "# mars_hemipage_list.clear()\n",
    "# hemi_name_tags = soup.find_all('h3')    \n",
    "\n",
    "# for i in hemi_name_tags:\n",
    "#     hemi_page_name = i.text\n",
    "#     mars_hemipage_list.append(hemi_page_name)\n",
    "        \n",
    "\n",
    "# for i in mars_hemipage_list:\n",
    "#     hemi_page = browser.find_link_by_partial_text(''+(i)+'')\n",
    "#     hemi_page.click()\n",
    "    \n",
    "#     html = browser.html\n",
    "#     soup = bs(html, 'html.parser')\n",
    "\n",
    "#     page_title = soup.find('h2').text\n",
    "#     title_split = page_title.split((\" \"))\n",
    "#     title_split.pop()\n",
    "#     title = ' '.join(title_split)\n",
    "#     title\n",
    "\n",
    "#     img = soup.find('li')\n",
    "#     img_url = img.a.get('href')\n",
    "\n",
    "#     Hemisphere = {'title':title, 'img_url':img_url}\n",
    "#     mars_hemispheres_dict.append(Hemisphere)\n",
    "    \n",
    "#     browser.back()"
   ]
  },
  {
   "cell_type": "markdown",
   "metadata": {},
   "source": [
    "# MARS WEATHER"
   ]
  },
  {
   "cell_type": "code",
   "execution_count": 20,
   "metadata": {},
   "outputs": [],
   "source": [
    "url3 = 'https://twitter.com/marswxreport?lang=en'\n",
    "browser.visit(url3)"
   ]
  },
  {
   "cell_type": "code",
   "execution_count": 21,
   "metadata": {},
   "outputs": [],
   "source": [
    "html = browser.html\n",
    "soup = bs(html, 'html.parser')\n",
    "# print(html)"
   ]
  },
  {
   "cell_type": "code",
   "execution_count": 22,
   "metadata": {},
   "outputs": [
    {
     "name": "stdout",
     "output_type": "stream",
     "text": [
      "Mars Weather@MarsWxReport·18hInSight sol 507 (2020-04-30) low -92.1ºC (-133.7ºF) high -2.4ºC (27.7ºF)\n",
      "winds from the SW at 5.0 m/s (11.1 mph) gusting to 18.2 m/s (40.6 mph)\n",
      "pressure at 6.80 hPa622\n"
     ]
    }
   ],
   "source": [
    "mars_weather_update = soup.select_one('article').text\n",
    "print(mars_weather_update)"
   ]
  },
  {
   "cell_type": "code",
   "execution_count": 23,
   "metadata": {},
   "outputs": [
    {
     "name": "stdout",
     "output_type": "stream",
     "text": [
      "[<div class=\"css-901oao r-hkyrab r-1qd0xha r-a023e6 r-16dba41 r-ad9z0x r-bcqeeo r-bnwqim r-qvutc0\" dir=\"auto\" lang=\"en\"><span class=\"css-901oao css-16my406 r-1qd0xha r-ad9z0x r-bcqeeo r-qvutc0\">InSight sol 507 (2020-04-30) low -92.1ºC (-133.7ºF) high -2.4ºC (27.7ºF)\n",
      "winds from the SW at 5.0 m/s (11.1 mph) gusting to 18.2 m/s (40.6 mph)\n",
      "pressure at 6.80 hPa</span></div>]\n"
     ]
    }
   ],
   "source": [
    "test = soup.select_one('article')\n",
    "test2 = test(lang='en')\n",
    "print(test2)"
   ]
  },
  {
   "cell_type": "code",
   "execution_count": null,
   "metadata": {},
   "outputs": [],
   "source": []
  },
  {
   "cell_type": "code",
   "execution_count": null,
   "metadata": {},
   "outputs": [],
   "source": []
  }
 ],
 "metadata": {
  "kernelspec": {
   "display_name": "Python 3",
   "language": "python",
   "name": "python3"
  },
  "language_info": {
   "codemirror_mode": {
    "name": "ipython",
    "version": 3
   },
   "file_extension": ".py",
   "mimetype": "text/x-python",
   "name": "python",
   "nbconvert_exporter": "python",
   "pygments_lexer": "ipython3",
   "version": "3.7.4"
  }
 },
 "nbformat": 4,
 "nbformat_minor": 2
}
