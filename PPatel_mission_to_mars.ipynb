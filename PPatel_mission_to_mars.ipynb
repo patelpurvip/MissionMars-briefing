{
 "cells": [
  {
   "cell_type": "markdown",
   "metadata": {},
   "source": [
    "# PPatel Web Scraping - Mars Info"
   ]
  },
  {
   "cell_type": "code",
   "execution_count": 1,
   "metadata": {},
   "outputs": [],
   "source": [
    "from bs4 import BeautifulSoup as bs\n",
    "\n",
    "import requests\n",
    "import pymongo\n",
    "\n",
    "from splinter import Browser\n",
    "from splinter.exceptions import ElementDoesNotExist\n",
    "\n",
    "import pandas as pd\n",
    "import datetime"
   ]
  },
  {
   "cell_type": "code",
   "execution_count": 9,
   "metadata": {},
   "outputs": [],
   "source": [
    "# Initialize PyMongo to work with MongoDBs\n",
    "# conn = 'mongodb://localhost:27017'\n",
    "# client = pymongo.MongoClient(conn)\n",
    "#-------------------------------------------------------------"
   ]
  },
  {
   "cell_type": "code",
   "execution_count": 2,
   "metadata": {},
   "outputs": [],
   "source": [
    "# Define database and collection\n",
    "# db = client.nasamars_db\n",
    "# mars_data = db.articles\n",
    "\n",
    "executable_path = {'executable_path': r\"C:\\Users\\Purvi Patel\\Documents\\Chromedriver\\chromedriver.exe\"}\n",
    "browser = Browser('chrome', **executable_path, headless=False)\n",
    "#-------------------------------------------------------------"
   ]
  },
  {
   "cell_type": "code",
   "execution_count": 13,
   "metadata": {},
   "outputs": [],
   "source": [
    "###########################################\n",
    "# MARS NEWS\n",
    "###########################################\n",
    "# URL of page to be scraped\n",
    "url1 = 'https://mars.nasa.gov/news/'\n",
    "\n",
    "# Retrieve the parent divs for all articles\n",
    "browser.visit(url1)\n",
    "html = browser.html\n",
    "soup = bs(html, 'html')"
   ]
  },
  {
   "cell_type": "code",
   "execution_count": 14,
   "metadata": {
    "tags": []
   },
   "outputs": [
    {
     "output_type": "stream",
     "name": "stdout",
     "text": "<li class=\"slide\"><div class=\"image_and_description_container\"><a href=\"/news/8712/6-things-to-know-about-nasas-ingenuity-mars-helicopter/\" target=\"_self\"><div class=\"rollover_description\"><div class=\"rollover_description_inner\">The first helicopter attempting to fly on another planet is a marvel of engineering. Get up to speed with these key facts about its plans.</div><div class=\"overlay_arrow\"><img alt=\"More\" src=\"/assets/overlay-arrow.png\"/></div></div><div class=\"list_image\"><img alt=\"\" src=\"/system/news_items/list_view_images/8712_PIA23720-320x240.jpg\"/></div><div class=\"bottom_gradient\"><div><h3>6 Things to Know About NASA's Ingenuity Mars Helicopter</h3></div></div></a><div class=\"list_text\"><div class=\"list_date\">July 14, 2020</div><div class=\"content_title\"><a href=\"/news/8712/6-things-to-know-about-nasas-ingenuity-mars-helicopter/\" target=\"_self\">6 Things to Know About NASA's Ingenuity Mars Helicopter</a></div><div class=\"article_teaser_body\">The first helicopter attempting to fly on another planet is a marvel of engineering. Get up to speed with these key facts about its plans.</div></div></div></li>\n####################################\n6 Things to Know About NASA's Ingenuity Mars Helicopter\n"
    }
   ],
   "source": [
    "#Retrieve the title of the first article\n",
    "first_article = soup.select_one(\"ul.item_list li.slide\")\n",
    "print(first_article)\n",
    "first_title = first_article.find('div', class_='content_title').get_text()\n",
    "print('####################################')\n",
    "print(first_title)\n",
    "\n",
    "# # ALTERNATIVE CODE FOR first_title\n",
    "# all_titles = soup.find_all('div', class_='content_title')\n",
    "# first_title = all_titles[1].text\n",
    "# print(first_title)"
   ]
  },
  {
   "cell_type": "code",
   "execution_count": 15,
   "metadata": {},
   "outputs": [
    {
     "output_type": "execute_result",
     "data": {
      "text/plain": "'The first helicopter attempting to fly on another planet is a marvel of engineering. Get up to speed with these key facts about its plans.'"
     },
     "metadata": {},
     "execution_count": 15
    }
   ],
   "source": [
    "#Save the article text\n",
    "first_paragraph = soup.find('div', class_='article_teaser_body').get_text()\n",
    "first_paragraph\n",
    "\n",
    "# # ALTERNATIVE CODE FOR first_title\n",
    "# first_paragraph = soup.find('div', class_ = 'article_teaser_body').text\n",
    "# print(first_paragraph)"
   ]
  },
  {
   "cell_type": "code",
   "execution_count": 3,
   "metadata": {
    "tags": []
   },
   "outputs": [
    {
     "output_type": "stream",
     "name": "stdout",
     "text": "https://mars.nasa.gov/system/basic_html_elements/237_Floral_Shaped_Volcano.jpg\n"
    }
   ],
   "source": [
    "###########################################\n",
    "# FEATURED IMAGE\n",
    "###########################################\n",
    "url2 = 'https://mars.nasa.gov'\n",
    "browser.visit(url2)\n",
    "\n",
    "html = browser.html\n",
    "soup = bs(html, 'html.parser')\n",
    "\n",
    "mars_featured_image = soup.find('img', class_='img-holder-img')\n",
    "image_name_section = soup.find('div', class_=\"window\")\n",
    "featured_image_name = image_name_section.find('h1', class_=\"media_feature_title\").text\n",
    "mars_img_url = mars_featured_image.get('src')\n",
    "\n",
    "featured_image_url = url2 + mars_img_url\n",
    "print(featured_image_url)\n",
    "#----------------------------------------------------------------"
   ]
  },
  {
   "cell_type": "code",
   "execution_count": 4,
   "metadata": {},
   "outputs": [
    {
     "output_type": "execute_result",
     "data": {
      "text/plain": "'https://mars.nasa.gov/resources/5250/small-floral-shaped-volcano/'"
     },
     "metadata": {},
     "execution_count": 4
    }
   ],
   "source": [
    "image_name_section\n",
    "find_img_page = image_name_section.find('a', class_='image_day')\n",
    "img_page = find_img_page.get('href')\n",
    "img_page"
   ]
  },
  {
   "cell_type": "code",
   "execution_count": 9,
   "metadata": {
    "tags": []
   },
   "outputs": [
    {
     "output_type": "execute_result",
     "data": {
      "text/plain": "['April 01, 2012',\n 'This is a small volcano superimposed on the flanks of a larger one of the Cerberus Tholi.',\n 'This smaller feature has a single vent opening, aligned along a Cerberus Fossae trough, and it has lava flows radiating away from this vent in all directions, resembling a flower.',\n 'These flows appear somewhat darker than their surroundings, though this might be due to roughness as much as to the flow’s relative youth. Note that there are some small impact craters superimposed on this feature, indicating that these flows are not entirely young.']"
     },
     "metadata": {},
     "execution_count": 9
    }
   ],
   "source": [
    "url3 = img_page\n",
    "browser.visit(url3)\n",
    "\n",
    "html = browser.html\n",
    "soup = bs(html, 'html.parser')\n",
    "text_sections = soup.find('div', id='body_content')\n",
    "text_content = text_sections.find_all('p')\n",
    "text_content\n",
    "\n",
    "img_description = []\n",
    "for p in text_content:\n",
    "    text = p.text\n",
    "    text = text.replace('\\n', '')\n",
    "    # print(text)\n",
    "    img_description.append(text)\n",
    "\n",
    "img_description"
   ]
  },
  {
   "cell_type": "code",
   "execution_count": 15,
   "metadata": {},
   "outputs": [
    {
     "data": {
      "text/plain": [
       "'<table border=\"1\" class=\"dataframe\">  <thead>    <tr>      <th>Measurement</th>      <th></th>    </tr>  </thead>  <tbody>    <tr>      <th>Equatorial Diameter:</th>      <td>6,792 km</td>    </tr>    <tr>      <th>Polar Diameter:</th>      <td>6,752 km</td>    </tr>    <tr>      <th>Mass:</th>      <td>6.39 × 10^23 kg (0.11 Earths)</td>    </tr>    <tr>      <th>Moons:</th>      <td>2 (Phobos &amp; Deimos)</td>    </tr>    <tr>      <th>Orbit Distance:</th>      <td>227,943,824 km (1.38 AU)</td>    </tr>    <tr>      <th>Orbit Period:</th>      <td>687 days (1.9 years)</td>    </tr>    <tr>      <th>Surface Temperature:</th>      <td>-87 to -5 °C</td>    </tr>    <tr>      <th>First Record:</th>      <td>2nd millennium BC</td>    </tr>    <tr>      <th>Recorded By:</th>      <td>Egyptian astronomers</td>    </tr>  </tbody></table>'"
      ]
     },
     "execution_count": 15,
     "metadata": {},
     "output_type": "execute_result"
    }
   ],
   "source": [
    "###########################################\n",
    "# MARS FACTS\n",
    "###########################################\n",
    "url4 = 'https://space-facts.com/mars/'\n",
    "browser.visit(url4)\n",
    "\n",
    "mars_table = pd.read_html(url4)\n",
    "mars_table\n",
    "\n",
    "table_df = mars_table[0]\n",
    "table_df.columns = ['Measurement', 'Value']\n",
    "table_df.set_index('Measurement', inplace=True)\n",
    "table_df.rename(columns={\"Value\":\"\"})\n",
    "\n",
    "html_table = table_df.to_html(header = False)\n",
    "final_facts_table = html_table.replace('\\n', '')\n",
    "final_facts_table\n",
    "\n",
    "# IN CASE YOU NEED TO EXPORT THE CODE INTO A SEPARATE HTML FILE:\n",
    "# html_table = table_df.to_html(\"./facts_table.html\")\n",
    "#----------------------------------------------------------------"
   ]
  },
  {
   "cell_type": "code",
   "execution_count": 15,
   "metadata": {},
   "outputs": [
    {
     "output_type": "execute_result",
     "data": {
      "text/plain": "'Mars is the fourth planet from the Sun and last of the terrestrial planets. Like the rest of the planets in the solar system (except Earth), Mars is named after a mythological figure - the Roman god of war. In addition to its official name, Mars is sometimes called the Red Planet because of the brownish-red color of its surface. Mars is the second smallest planet in the solar system behind Mercury.'"
     },
     "metadata": {},
     "execution_count": 15
    }
   ],
   "source": [
    "###########################################\n",
    "# MARS BACKGROUND INFO\n",
    "###########################################\n",
    "url5 = 'https://theplanets.org/mars/'\n",
    "browser.visit(url5)\n",
    "html = browser.html\n",
    "soup = bs(html, 'html.parser')\n",
    "\n",
    "intro_paragraph = soup.find('div', class_='entry-header-inner')\n",
    "texts = intro_paragraph.find_all('p')\n",
    "texts\n",
    "\n",
    "background = []\n",
    "for p in texts:\n",
    "    text = p.text\n",
    "    background.append(text)\n",
    "\n",
    "mars_background = background[1]\n",
    "mars_background"
   ]
  },
  {
   "cell_type": "code",
   "execution_count": 16,
   "metadata": {
    "tags": []
   },
   "outputs": [
    {
     "name": "stderr",
     "output_type": "stream",
     "text": [
      "C:\\Users\\Purvi Patel\\Anaconda3\\lib\\site-packages\\splinter\\driver\\webdriver\\__init__.py:528: FutureWarning: browser.find_link_by_partial_text is deprecated. Use browser.links.find_by_partial_text instead.\n",
      "  FutureWarning,\n"
     ]
    },
    {
     "name": "stdout",
     "output_type": "stream",
     "text": [
      "Cerberus Hemisphere Enhanced\n",
      "https://astropedia.astrogeology.usgs.gov/download/Mars/Viking/cerberus_enhanced.tif/full.jpg\n",
      "Schiaparelli Hemisphere Enhanced\n",
      "https://astropedia.astrogeology.usgs.gov/download/Mars/Viking/schiaparelli_enhanced.tif/full.jpg\n",
      "Syrtis Major Hemisphere Enhanced\n",
      "https://astropedia.astrogeology.usgs.gov/download/Mars/Viking/syrtis_major_enhanced.tif/full.jpg\n",
      "Valles Marineris Hemisphere Enhanced\n",
      "https://astropedia.astrogeology.usgs.gov/download/Mars/Viking/valles_marineris_enhanced.tif/full.jpg\n"
     ]
    }
   ],
   "source": [
    "###########################################\n",
    "# MARS HEMISPHERES\n",
    "###########################################\n",
    "\n",
    "#THIS WAS THE ORIGNAL CODE FOR THE PRIOR SCRAPE, BUT THE PAGE WAS AT ONE POINT DELETED BY NASA AND THE CODE WAS REWRITTEN FOR A NEW PAGE\n",
    "base = 'https://astrogeology.usgs.gov'\n",
    "url6 = 'https://astrogeology.usgs.gov/search/results?q=hemisphere+enhanced&k1=target&v1=Mars'\n",
    "\n",
    "browser.visit(url6)\n",
    "html = browser.html\n",
    "soup = bs(html, 'html.parser')\n",
    "\n",
    "mars_hemispheres_dict = []\n",
    "mars_hemipage_list = []\n",
    "mars_hemipage_links = []\n",
    "\n",
    "mars_hemisphere_data = soup.find_all('div', class_='description')\n",
    "hemi_name_tags = soup.find_all('h3')\n",
    "\n",
    "mars_hemispheres_dict.clear()\n",
    "mars_hemipage_list.clear()\n",
    "  \n",
    "for i in hemi_name_tags:\n",
    "    hemi_page_name = i.text\n",
    "    mars_hemipage_list.append(hemi_page_name)\n",
    "\n",
    "for i in mars_hemisphere_data:\n",
    "    link_url = i.a.get('href')\n",
    "    hemi_page_link = base + link_url\n",
    "    mars_hemipage_links.append(hemi_page_link)\n",
    "\n",
    "for i in mars_hemipage_list:\n",
    "    hemi_page = browser.find_link_by_partial_text(''+(i)+'')\n",
    "    hemi_page.click()\n",
    "    \n",
    "    html = browser.html\n",
    "    soup = bs(html, 'html.parser')\n",
    "\n",
    "    page_title = soup.find('h2').text\n",
    "    title_split = page_title.split((\" \"))\n",
    "    title_split.pop()\n",
    "    title = ' '.join(title_split)\n",
    "    title\n",
    "\n",
    "    img = soup.find('li')\n",
    "    img_url = img.a.get('href')\n",
    "    print(i)\n",
    "    print(img_url)\n",
    "\n",
    "    Hemisphere = {'title':title, 'img_url':img_url, 'hemi_page':i}\n",
    "    mars_hemispheres_dict.append(Hemisphere)\n",
    "    browser.back()\n",
    "\n"
   ]
  },
  {
   "cell_type": "code",
   "execution_count": 17,
   "metadata": {},
   "outputs": [
    {
     "data": {
      "text/plain": [
       "['https://astrogeology.usgs.gov/search/map/Mars/Viking/cerberus_enhanced',\n",
       " 'https://astrogeology.usgs.gov/search/map/Mars/Viking/schiaparelli_enhanced',\n",
       " 'https://astrogeology.usgs.gov/search/map/Mars/Viking/syrtis_major_enhanced',\n",
       " 'https://astrogeology.usgs.gov/search/map/Mars/Viking/valles_marineris_enhanced']"
      ]
     },
     "execution_count": 17,
     "metadata": {},
     "output_type": "execute_result"
    }
   ],
   "source": [
    "mars_hemipage_links"
   ]
  },
  {
   "cell_type": "code",
   "execution_count": 19,
   "metadata": {},
   "outputs": [
    {
     "data": {
      "text/plain": [
       "[{'title': 'Cerberus Hemisphere',\n",
       "  'img_url': 'https://astropedia.astrogeology.usgs.gov/download/Mars/Viking/cerberus_enhanced.tif/full.jpg',\n",
       "  'hemi_page': 'Cerberus Hemisphere Enhanced'},\n",
       " {'title': 'Schiaparelli Hemisphere',\n",
       "  'img_url': 'https://astropedia.astrogeology.usgs.gov/download/Mars/Viking/schiaparelli_enhanced.tif/full.jpg',\n",
       "  'hemi_page': 'Schiaparelli Hemisphere Enhanced'},\n",
       " {'title': 'Syrtis Major Hemisphere',\n",
       "  'img_url': 'https://astropedia.astrogeology.usgs.gov/download/Mars/Viking/syrtis_major_enhanced.tif/full.jpg',\n",
       "  'hemi_page': 'Syrtis Major Hemisphere Enhanced'},\n",
       " {'title': 'Valles Marineris Hemisphere',\n",
       "  'img_url': 'https://astropedia.astrogeology.usgs.gov/download/Mars/Viking/valles_marineris_enhanced.tif/full.jpg',\n",
       "  'hemi_page': 'Valles Marineris Hemisphere Enhanced'}]"
      ]
     },
     "execution_count": 19,
     "metadata": {},
     "output_type": "execute_result"
    }
   ],
   "source": [
    "mars_hemispheres_dict"
   ]
  },
  {
   "cell_type": "code",
   "execution_count": 20,
   "metadata": {},
   "outputs": [
    {
     "name": "stdout",
     "output_type": "stream",
     "text": [
      "Valles Marineris Hemisphere\n",
      "https://planetary.s3.amazonaws.com/assets/images/4-mars/2014/20140202_valles_marineris_enhanced_f840.jpg\n",
      "Syrtis Major Hemisphere\n",
      "https://planetary.s3.amazonaws.com/assets/images/4-mars/2014/20140202_syrtis_major_enhanced_f840.jpg\n",
      "Cerberus Hemisphere \n",
      "https://planetary.s3.amazonaws.com/assets/images/4-mars/2014/20140202_cerberus_enhanced_f840.jpg\n",
      "Schiaparelli Hemisphere \n",
      "https://planetary.s3.amazonaws.com/assets/images/4-mars/2014/20140202_schiaparelli_enhanced_f840.jpg\n"
     ]
    },
    {
     "data": {
      "text/plain": [
       "[{'title': 'Valles Marineris Hemisphere',\n",
       "  'img_url': 'https://planetary.s3.amazonaws.com/assets/images/4-mars/2014/20140202_valles_marineris_enhanced_f840.jpg'},\n",
       " {'title': 'Syrtis Major Hemisphere',\n",
       "  'img_url': 'https://planetary.s3.amazonaws.com/assets/images/4-mars/2014/20140202_syrtis_major_enhanced_f840.jpg'},\n",
       " {'title': 'Cerberus Hemisphere ',\n",
       "  'img_url': 'https://planetary.s3.amazonaws.com/assets/images/4-mars/2014/20140202_cerberus_enhanced_f840.jpg'},\n",
       " {'title': 'Schiaparelli Hemisphere ',\n",
       "  'img_url': 'https://planetary.s3.amazonaws.com/assets/images/4-mars/2014/20140202_schiaparelli_enhanced_f840.jpg'}]"
      ]
     },
     "execution_count": 20,
     "metadata": {},
     "output_type": "execute_result"
    }
   ],
   "source": [
    "#THIS IS THE BACKUP CODE FROM ANOTHER SOURCE FOR MARS HEMISPHERE IMAGES, WHEN THE NASA PAEG IS NOT WORKING \n",
    "url6 = 'https://www.planetary.org/blogs/guest-blogs/bill-dunford/20140203-the-faces-of-mars.html'\n",
    "\n",
    "browser.visit(url6)\n",
    "html = browser.html\n",
    "soup = bs(html, 'html.parser')\n",
    "\n",
    "mars_hemi_data = soup.find_all('img', class_='img840')\n",
    "\n",
    "mars_hemispheres_dict = []\n",
    "\n",
    "for i in mars_hemi_data:\n",
    "    hemi_name_header = i.get('alt')\n",
    "    header_split = hemi_name_header.split((\" \"))\n",
    "    header_split.pop(0)\n",
    "    title = ' '.join(header_split)\n",
    "    print(title)\n",
    "\n",
    "    img_url = i.get('src')\n",
    "    print(img_url)\n",
    "    \n",
    "    Hemisphere = {'title':title, 'img_url':img_url}\n",
    "    mars_hemispheres_dict.append(Hemisphere)\n",
    "\n",
    "# mars_hemispheres_dict.clear()\n",
    "mars_hemispheres_dict\n"
   ]
  },
  {
   "cell_type": "markdown",
   "metadata": {},
   "source": [
    "### Mars Weather -- scrape code will not work when joined in one cell"
   ]
  },
  {
   "cell_type": "code",
   "execution_count": 2,
   "metadata": {},
   "outputs": [],
   "source": [
    "###########################################\n",
    "# MARS WEATHER\n",
    "###########################################\n",
    "url7 = 'https://twitter.com/marswxreport?lang=en'\n",
    "browser.visit(url7)\n",
    "\n",
    "html = browser.html\n",
    "soup = bs(html, 'html.parser')\n",
    "# # print(html)"
   ]
  },
  {
   "cell_type": "code",
   "execution_count": 1,
   "metadata": {
    "scrolled": true
   },
   "outputs": [],
   "source": [
    "mars_weather_update = soup.select_one('article')\n",
    "# print(mars_weather_update)"
   ]
  },
  {
   "cell_type": "code",
   "execution_count": 2,
   "metadata": {},
   "outputs": [],
   "source": [
    "mars_weather = mars_weather_update.find('div', lang='en').get_text()\n",
    "mars_weather"
   ]
  },
  {
   "cell_type": "code",
   "execution_count": null,
   "metadata": {},
   "outputs": [],
   "source": []
  }
 ],
 "metadata": {
  "kernelspec": {
   "display_name": "Python 3.7.4 64-bit ('base': conda)",
   "language": "python",
   "name": "python37464bitbasecondae861a842cf624318a7290d59283a4372"
  },
  "language_info": {
   "codemirror_mode": {
    "name": "ipython",
    "version": 3
   },
   "file_extension": ".py",
   "mimetype": "text/x-python",
   "name": "python",
   "nbconvert_exporter": "python",
   "pygments_lexer": "ipython3",
   "version": "3.7.4-final"
  }
 },
 "nbformat": 4,
 "nbformat_minor": 2
}